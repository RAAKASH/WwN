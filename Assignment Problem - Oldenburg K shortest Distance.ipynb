{
 "cells": [
  {
   "cell_type": "code",
   "execution_count": 1,
   "id": "f1a9c62a",
   "metadata": {},
   "outputs": [],
   "source": [
    "from Assignment_main import *\n",
    "from numpy import savetxt"
   ]
  },
  {
   "cell_type": "code",
   "execution_count": 2,
   "id": "9f0bd537",
   "metadata": {},
   "outputs": [
    {
     "name": "stderr",
     "output_type": "stream",
     "text": [
      "Loading File:Oldenburg.txt: 100%|████████████████████████████████████████████| 14070/14070 [00:00<00:00, 279096.59it/s]\n"
     ]
    }
   ],
   "source": [
    "#Loading graph with no congestion\n",
    "gr = graph()\n",
    "gr.read_file(\"Data/Oldenburg.txt\");"
   ]
  },
  {
   "cell_type": "code",
   "execution_count": 12,
   "id": "b645836e",
   "metadata": {},
   "outputs": [
    {
     "name": "stderr",
     "output_type": "stream",
     "text": [
      "100%|████████████████████████████████████████████████████████████████████████████████████| 9/9 [00:08<00:00,  1.04it/s]"
     ]
    },
    {
     "name": "stdout",
     "output_type": "stream",
     "text": [
      "Distance [6421.069999999998, 6422.389999999998, 6427.949999999998, 6436.459999999997, 6437.779999999998, 6438.469999999999, 6439.789999999998, 6443.339999999998, 6445.3499999999985, 6448.109999999999]\n"
     ]
    },
    {
     "name": "stderr",
     "output_type": "stream",
     "text": [
      "\n"
     ]
    }
   ],
   "source": [
    "# Running 10-Shortest paths between 100 and 200 \n",
    "A,a =gr.N_shortest_paths(100,200,10);\n",
    "print(\"Distance\",a)"
   ]
  },
  {
   "cell_type": "code",
   "execution_count": 7,
   "id": "89fc70f2",
   "metadata": {},
   "outputs": [],
   "source": [
    "# Running Floyd Warshall algorithm : Approximate run time is about 20 mins on a low end Desktop, \n",
    "#you can use verbose = 1 to estimate the time it will take to run on your PC.\n",
    "\n",
    "#D,nxt = gr.floyd_warshall_cyth()\n",
    "#savetxt('D.csv', D, delimiter=',') # Size is greater than 200 MB, hence cant upload to git"
   ]
  },
  {
   "cell_type": "code",
   "execution_count": 11,
   "id": "f27951b2",
   "metadata": {},
   "outputs": [
    {
     "name": "stderr",
     "output_type": "stream",
     "text": [
      "100%|████████████████████████████████████████████████████████████████████████████████████| 9/9 [00:02<00:00,  3.94it/s]"
     ]
    },
    {
     "name": "stdout",
     "output_type": "stream",
     "text": [
      "Distance [6421.069999999998, 6422.389999999998, 6427.949999999998, 6436.459999999997, 6437.779999999998, 6438.469999999999, 6439.789999999998, 6443.339999999998, 6445.3499999999985, 6448.109999999999]\n"
     ]
    },
    {
     "name": "stderr",
     "output_type": "stream",
     "text": [
      "\n"
     ]
    }
   ],
   "source": [
    "#Using Astar algorithm for 10 shortest path\n",
    "A_new,a_new =gr.N_shortest_paths(100,200,10,D);\n",
    "print(\"Distance\",a_new)"
   ]
  },
  {
   "cell_type": "code",
   "execution_count": 21,
   "id": "5fa1b7d7",
   "metadata": {},
   "outputs": [
    {
     "name": "stderr",
     "output_type": "stream",
     "text": [
      "Loading File:OldenburgFinal.txt: 100%|███████████████████████████████████████| 14058/14058 [00:00<00:00, 872951.75it/s]"
     ]
    },
    {
     "name": "stdout",
     "output_type": "stream",
     "text": [
      "6105\n"
     ]
    },
    {
     "name": "stderr",
     "output_type": "stream",
     "text": [
      "\n"
     ]
    }
   ],
   "source": [
    "# Creating new file using congestion\n",
    "create_file(arc_file_path=\"Data/OldenburgEdges.txt\",congestion_path=\"Data/congestion.txt\",output_file = \"Data/OldenburgFinal.txt\");\n",
    "gr.clear()\n",
    "gr.read_file(\"Data/OldenburgFinal.txt\",overwrite=1);"
   ]
  },
  {
   "cell_type": "code",
   "execution_count": 22,
   "id": "adb6eb6c",
   "metadata": {},
   "outputs": [
    {
     "name": "stderr",
     "output_type": "stream",
     "text": [
      "100%|████████████████████████████████████████████████████████████████████████████████████| 9/9 [00:06<00:00,  1.37it/s]"
     ]
    },
    {
     "name": "stdout",
     "output_type": "stream",
     "text": [
      "Distance [6579.2456999999995, 6580.565699999999, 6586.1257, 6594.635699999999, 6595.9556999999995, 6596.6457, 6597.9657, 6598.188499999998, 6599.508499999999, 6601.5157]\n"
     ]
    },
    {
     "name": "stderr",
     "output_type": "stream",
     "text": [
      "\n"
     ]
    }
   ],
   "source": [
    "# Running 10-Shortest paths between 100 and 200 using Dijkstra\n",
    "A,a =gr.N_shortest_paths(100,200,10);\n",
    "print(\"Distance\",a)"
   ]
  },
  {
   "cell_type": "code",
   "execution_count": 23,
   "id": "4ccde441",
   "metadata": {},
   "outputs": [
    {
     "name": "stderr",
     "output_type": "stream",
     "text": [
      "100%|████████████████████████████████████████████████████████████████████████████████████| 9/9 [00:02<00:00,  3.96it/s]"
     ]
    },
    {
     "name": "stdout",
     "output_type": "stream",
     "text": [
      "Distance [6579.2456999999995, 6580.565699999999, 6586.1257, 6594.635699999999, 6595.9556999999995, 6596.6457, 6597.9657, 6598.188499999998, 6599.508499999999, 6601.5157]\n"
     ]
    },
    {
     "name": "stderr",
     "output_type": "stream",
     "text": [
      "\n"
     ]
    }
   ],
   "source": [
    "# Running 10-Shortest paths between 100 and 200 using Astar - Speed increased by 3 times\n",
    "A,a =gr.N_shortest_paths(100,200,10,D);\n",
    "print(\"Distance\",a)"
   ]
  }
 ],
 "metadata": {
  "kernelspec": {
   "display_name": "Python 3",
   "language": "python",
   "name": "python3"
  },
  "language_info": {
   "codemirror_mode": {
    "name": "ipython",
    "version": 3
   },
   "file_extension": ".py",
   "mimetype": "text/x-python",
   "name": "python",
   "nbconvert_exporter": "python",
   "pygments_lexer": "ipython3",
   "version": "3.8.8"
  }
 },
 "nbformat": 4,
 "nbformat_minor": 5
}
